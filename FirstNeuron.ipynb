{
 "cells": [
  {
   "cell_type": "code",
   "execution_count": 2,
   "id": "66fd23a2",
   "metadata": {},
   "outputs": [
    {
     "name": "stdout",
     "output_type": "stream",
     "text": [
      "Collecting scikit-learnNote: you may need to restart the kernel to use updated packages.\n",
      "\n",
      "  Using cached scikit_learn-1.2.0-cp310-cp310-win_amd64.whl (8.2 MB)\n",
      "Collecting joblib>=1.1.1\n",
      "  Using cached joblib-1.2.0-py3-none-any.whl (297 kB)\n",
      "Requirement already satisfied: numpy>=1.17.3 in c:\\users\\ghsts\\documents\\deeplearning\\.dlenv\\lib\\site-packages (from scikit-learn) (1.24.1)\n",
      "Collecting scipy>=1.3.2\n",
      "  Downloading scipy-1.10.0-cp310-cp310-win_amd64.whl (42.5 MB)\n",
      "     ---------------------------------------- 42.5/42.5 MB 3.7 MB/s eta 0:00:00\n",
      "Collecting threadpoolctl>=2.0.0\n",
      "  Using cached threadpoolctl-3.1.0-py3-none-any.whl (14 kB)\n",
      "Installing collected packages: threadpoolctl, scipy, joblib, scikit-learn\n",
      "Successfully installed joblib-1.2.0 scikit-learn-1.2.0 scipy-1.10.0 threadpoolctl-3.1.0\n",
      "Requirement already satisfied: numpy in c:\\users\\ghsts\\documents\\deeplearning\\.dlenv\\lib\\site-packages (1.24.1)\n",
      "Note: you may need to restart the kernel to use updated packages.\n",
      "Requirement already satisfied: matplotlib in c:\\users\\ghsts\\documents\\deeplearning\\.dlenv\\lib\\site-packages (3.6.3)\n",
      "Requirement already satisfied: cycler>=0.10 in c:\\users\\ghsts\\documents\\deeplearning\\.dlenv\\lib\\site-packages (from matplotlib) (0.11.0)\n",
      "Requirement already satisfied: kiwisolver>=1.0.1 in c:\\users\\ghsts\\documents\\deeplearning\\.dlenv\\lib\\site-packages (from matplotlib) (1.4.4)\n",
      "Requirement already satisfied: fonttools>=4.22.0 in c:\\users\\ghsts\\documents\\deeplearning\\.dlenv\\lib\\site-packages (from matplotlib) (4.38.0)\n",
      "Requirement already satisfied: pyparsing>=2.2.1 in c:\\users\\ghsts\\documents\\deeplearning\\.dlenv\\lib\\site-packages (from matplotlib) (3.0.9)\n",
      "Requirement already satisfied: python-dateutil>=2.7 in c:\\users\\ghsts\\documents\\deeplearning\\.dlenv\\lib\\site-packages (from matplotlib) (2.8.2)\n",
      "Requirement already satisfied: packaging>=20.0 in c:\\users\\ghsts\\documents\\deeplearning\\.dlenv\\lib\\site-packages (from matplotlib) (23.0)\n",
      "Requirement already satisfied: pillow>=6.2.0 in c:\\users\\ghsts\\documents\\deeplearning\\.dlenv\\lib\\site-packages (from matplotlib) (9.4.0)\n",
      "Requirement already satisfied: contourpy>=1.0.1 in c:\\users\\ghsts\\documents\\deeplearning\\.dlenv\\lib\\site-packages (from matplotlib) (1.0.7)\n",
      "Requirement already satisfied: numpy>=1.19 in c:\\users\\ghsts\\documents\\deeplearning\\.dlenv\\lib\\site-packages (from matplotlib) (1.24.1)\n",
      "Requirement already satisfied: six>=1.5 in c:\\users\\ghsts\\documents\\deeplearning\\.dlenv\\lib\\site-packages (from python-dateutil>=2.7->matplotlib) (1.16.0)\n",
      "Note: you may need to restart the kernel to use updated packages.\n",
      "Requirement already satisfied: pandas in c:\\users\\ghsts\\documents\\deeplearning\\.dlenv\\lib\\site-packages (1.5.2)\n",
      "Requirement already satisfied: python-dateutil>=2.8.1 in c:\\users\\ghsts\\documents\\deeplearning\\.dlenv\\lib\\site-packages (from pandas) (2.8.2)\n",
      "Requirement already satisfied: numpy>=1.21.0 in c:\\users\\ghsts\\documents\\deeplearning\\.dlenv\\lib\\site-packages (from pandas) (1.24.1)\n",
      "Requirement already satisfied: pytz>=2020.1 in c:\\users\\ghsts\\documents\\deeplearning\\.dlenv\\lib\\site-packages (from pandas) (2022.7.1)\n",
      "Requirement already satisfied: six>=1.5 in c:\\users\\ghsts\\documents\\deeplearning\\.dlenv\\lib\\site-packages (from python-dateutil>=2.8.1->pandas) (1.16.0)\n",
      "Note: you may need to restart the kernel to use updated packages.\n",
      "Requirement already satisfied: seaborn in c:\\users\\ghsts\\documents\\deeplearning\\.dlenv\\lib\\site-packages (0.12.2)Note: you may need to restart the kernel to use updated packages.\n",
      "\n",
      "Requirement already satisfied: matplotlib!=3.6.1,>=3.1 in c:\\users\\ghsts\\documents\\deeplearning\\.dlenv\\lib\\site-packages (from seaborn) (3.6.3)\n",
      "Requirement already satisfied: numpy!=1.24.0,>=1.17 in c:\\users\\ghsts\\documents\\deeplearning\\.dlenv\\lib\\site-packages (from seaborn) (1.24.1)\n",
      "Requirement already satisfied: pandas>=0.25 in c:\\users\\ghsts\\documents\\deeplearning\\.dlenv\\lib\\site-packages (from seaborn) (1.5.2)\n",
      "Requirement already satisfied: packaging>=20.0 in c:\\users\\ghsts\\documents\\deeplearning\\.dlenv\\lib\\site-packages (from matplotlib!=3.6.1,>=3.1->seaborn) (23.0)\n",
      "Requirement already satisfied: fonttools>=4.22.0 in c:\\users\\ghsts\\documents\\deeplearning\\.dlenv\\lib\\site-packages (from matplotlib!=3.6.1,>=3.1->seaborn) (4.38.0)\n",
      "Requirement already satisfied: kiwisolver>=1.0.1 in c:\\users\\ghsts\\documents\\deeplearning\\.dlenv\\lib\\site-packages (from matplotlib!=3.6.1,>=3.1->seaborn) (1.4.4)\n",
      "Requirement already satisfied: contourpy>=1.0.1 in c:\\users\\ghsts\\documents\\deeplearning\\.dlenv\\lib\\site-packages (from matplotlib!=3.6.1,>=3.1->seaborn) (1.0.7)\n",
      "Requirement already satisfied: pillow>=6.2.0 in c:\\users\\ghsts\\documents\\deeplearning\\.dlenv\\lib\\site-packages (from matplotlib!=3.6.1,>=3.1->seaborn) (9.4.0)\n",
      "Requirement already satisfied: cycler>=0.10 in c:\\users\\ghsts\\documents\\deeplearning\\.dlenv\\lib\\site-packages (from matplotlib!=3.6.1,>=3.1->seaborn) (0.11.0)\n",
      "Requirement already satisfied: pyparsing>=2.2.1 in c:\\users\\ghsts\\documents\\deeplearning\\.dlenv\\lib\\site-packages (from matplotlib!=3.6.1,>=3.1->seaborn) (3.0.9)\n",
      "Requirement already satisfied: python-dateutil>=2.7 in c:\\users\\ghsts\\documents\\deeplearning\\.dlenv\\lib\\site-packages (from matplotlib!=3.6.1,>=3.1->seaborn) (2.8.2)\n",
      "Requirement already satisfied: pytz>=2020.1 in c:\\users\\ghsts\\documents\\deeplearning\\.dlenv\\lib\\site-packages (from pandas>=0.25->seaborn) (2022.7.1)\n",
      "Requirement already satisfied: six>=1.5 in c:\\users\\ghsts\\documents\\deeplearning\\.dlenv\\lib\\site-packages (from python-dateutil>=2.7->matplotlib!=3.6.1,>=3.1->seaborn) (1.16.0)\n"
     ]
    }
   ],
   "source": [
    "%pip install -U scikit-learn\n",
    "%pip install numpy\n",
    "%pip install matplotlib\n",
    "%pip install pandas \n",
    "%pip install seaborn"
   ]
  },
  {
   "cell_type": "code",
   "execution_count": 2,
   "id": "2417cc10",
   "metadata": {},
   "outputs": [],
   "source": [
    "import numpy as np\n",
    "import matplotlib.pyplot as plt\n",
    "from sklearn.datasets import make_blobs"
   ]
  },
  {
   "cell_type": "code",
   "execution_count": 4,
   "id": "256a803f",
   "metadata": {},
   "outputs": [
    {
     "name": "stdout",
     "output_type": "stream",
     "text": [
      "x shape : (100, 2)\n",
      "y shape : (100, 1)\n"
     ]
    },
    {
     "data": {
      "image/png": "[encoded data removed]",
      "text/plain": [
       "<Figure size 432x288 with 1 Axes>"
      ]
     },
     "metadata": {
      "needs_background": "light"
     },
     "output_type": "display_data"
    }
   ],
   "source": [
    "X, y = make_blobs(n_samples=100, n_features=2, centers=2, random_state=0)\n",
    "y = y.reshape(y.shape[0], 1)\n",
    "\n",
    "print(f\"x shape : {X.shape}\")\n",
    "print(f\"y shape : {y.shape}\")\n",
    "\n",
    "plt.figure()\n",
    "plt.scatter(X[:, 0], X[:, 1], c=y, cmap=\"summer\")\n",
    "plt.show()"
   ]
  },
  {
   "cell_type": "code",
   "execution_count": 5,
   "id": "50c8728f",
   "metadata": {},
   "outputs": [],
   "source": [
    "#initializing the weights and biais\n",
    "def initialize(X): \n",
    "    W = np.random.randn(X.shape[1], 1)\n",
    "    b = np.random.randn(1)\n",
    "    return (W, b)"
   ]
  },
  {
   "cell_type": "code",
   "execution_count": 6,
   "id": "d7bf27a1",
   "metadata": {},
   "outputs": [],
   "source": [
    "W, b = initialize(X)"
   ]
  },
  {
   "cell_type": "code",
   "execution_count": 69,
   "id": "054294b6",
   "metadata": {},
   "outputs": [
    {
     "data": {
      "text/plain": [
       "(2, 1)"
      ]
     },
     "execution_count": 69,
     "metadata": {},
     "output_type": "execute_result"
    }
   ],
   "source": [
    "W.shape"
   ]
  },
  {
   "cell_type": "code",
   "execution_count": 8,
   "id": "2a103213",
   "metadata": {},
   "outputs": [
    {
     "data": {
      "text/plain": [
       "(1,)"
      ]
     },
     "execution_count": 8,
     "metadata": {},
     "output_type": "execute_result"
    }
   ],
   "source": [
    "b.shape"
   ]
  },
  {
   "cell_type": "code",
   "execution_count": 14,
   "id": "03ded2c4",
   "metadata": {},
   "outputs": [],
   "source": [
    "def model(X, W, b):\n",
    "    Z = X.dot(W) + b\n",
    "    A = 1/(1 + np.exp(-Z))\n",
    "    return A"
   ]
  },
  {
   "cell_type": "code",
   "execution_count": 15,
   "id": "0991c231",
   "metadata": {},
   "outputs": [
    {
     "data": {
      "text/plain": [
       "(100, 1)"
      ]
     },
     "execution_count": 15,
     "metadata": {},
     "output_type": "execute_result"
    }
   ],
   "source": [
    "A = model(X, W, b)\n",
    "A.shape"
   ]
  },
  {
   "cell_type": "code",
   "execution_count": 35,
   "id": "1d716be8",
   "metadata": {},
   "outputs": [],
   "source": [
    "def log_loss(A, y):\n",
    "    return -1/y.shape[0] * np.sum(y*np.log(A) + (1-y)*np.log(1-A))"
   ]
  },
  {
   "cell_type": "code",
   "execution_count": 36,
   "id": "83a7aacb",
   "metadata": {},
   "outputs": [
    {
     "data": {
      "text/plain": [
       "4.640232092207223"
      ]
     },
     "execution_count": 36,
     "metadata": {},
     "output_type": "execute_result"
    }
   ],
   "source": [
    "log_loss(A, y)"
   ]
  },
  {
   "cell_type": "code",
   "execution_count": 37,
   "id": "41961056",
   "metadata": {},
   "outputs": [],
   "source": [
    "def gradients(A, X, y):\n",
    "    dW = 1/y.shape[0] * np.dot(X.T, A - y)\n",
    "    db = 1/y.shape[0] * np.sum(A - y)\n",
    "    return (dW, db)"
   ]
  },
  {
   "cell_type": "code",
   "execution_count": 38,
   "id": "6370bffe",
   "metadata": {},
   "outputs": [
    {
     "data": {
      "text/plain": [
       "(2, 1)"
      ]
     },
     "execution_count": 38,
     "metadata": {},
     "output_type": "execute_result"
    }
   ],
   "source": [
    "dW, db = gradients(A, X, y)\n",
    "dW.shape"
   ]
  },
  {
   "cell_type": "code",
   "execution_count": 40,
   "id": "4072f8ae",
   "metadata": {},
   "outputs": [
    {
     "data": {
      "text/plain": [
       "0.4489416231514931"
      ]
     },
     "execution_count": 40,
     "metadata": {},
     "output_type": "execute_result"
    }
   ],
   "source": [
    "db"
   ]
  },
  {
   "cell_type": "code",
   "execution_count": 41,
   "id": "13e3dffc",
   "metadata": {},
   "outputs": [],
   "source": [
    "def update(dW, db, W, b, learning_rate):\n",
    "    W = W - learning_rate*dW\n",
    "    b = b - learning_rate*db\n",
    "    return (W, b)"
   ]
  },
  {
   "cell_type": "code",
   "execution_count": 43,
   "id": "be47767e",
   "metadata": {},
   "outputs": [],
   "source": [
    "dW, b = update(dW, db, W, b, 0.1)"
   ]
  },
  {
   "cell_type": "code",
   "execution_count": 44,
   "id": "5f745294",
   "metadata": {},
   "outputs": [
    {
     "data": {
      "text/plain": [
       "(2, 1)"
      ]
     },
     "execution_count": 44,
     "metadata": {},
     "output_type": "execute_result"
    }
   ],
   "source": [
    "dW.shape"
   ]
  },
  {
   "cell_type": "code",
   "execution_count": 46,
   "id": "254b0b8d",
   "metadata": {},
   "outputs": [
    {
     "data": {
      "text/plain": [
       "(1,)"
      ]
     },
     "execution_count": 46,
     "metadata": {},
     "output_type": "execute_result"
    }
   ],
   "source": [
    "b.shape"
   ]
  },
  {
   "cell_type": "code",
   "execution_count": 66,
   "id": "5be5cbd8",
   "metadata": {},
   "outputs": [],
   "source": [
    "def predict(X, W, b):\n",
    "    A = model(X, W, b)\n",
    "    print(A)\n",
    "    return A >= 0.5"
   ]
  },
  {
   "cell_type": "code",
   "execution_count": 59,
   "id": "d4845267",
   "metadata": {},
   "outputs": [],
   "source": [
    "from sklearn.metrics import accuracy_score"
   ]
  },
  {
   "cell_type": "code",
   "execution_count": 60,
   "id": "af447c46",
   "metadata": {},
   "outputs": [],
   "source": [
    "def artificial_neuron(X, y, learning_rate=0.1, n_iter=100):\n",
    "    #initialize W, b\n",
    "    W, b = initialize(X)\n",
    "    \n",
    "    Loss = []\n",
    "    \n",
    "    #learning loop\n",
    "    for i in range(n_iter):\n",
    "        A = model(X, W, b)\n",
    "        Loss.append(log_loss(A, y))\n",
    "        dW, db = gradients(A, X, y)\n",
    "        W, b = update(dW, db, W, b, learning_rate)\n",
    "        \n",
    "    #Predicting new values\n",
    "    y_pred = predict(X, W, b)\n",
    "    print(accuracy_score(y, y_pred))\n",
    "        \n",
    "    #Plot evolution of our Loss\n",
    "    plt.plot(Loss)\n",
    "    plt.show()\n",
    "    \n",
    "    return (W, b)"
   ]
  },
  {
   "cell_type": "code",
   "execution_count": 63,
   "id": "a1a96e21",
   "metadata": {},
   "outputs": [
    {
     "name": "stdout",
     "output_type": "stream",
     "text": [
      "0.89\n"
     ]
    },
    {
     "data": {
      "image/png": "[encoded data removed]",
      "text/plain": [
       "<Figure size 432x288 with 1 Axes>"
      ]
     },
     "metadata": {
      "needs_background": "light"
     },
     "output_type": "display_data"
    }
   ],
   "source": [
    "W, b = artificial_neuron(X, y)"
   ]
  },
  {
   "cell_type": "code",
   "execution_count": 71,
   "id": "e335760a",
   "metadata": {},
   "outputs": [
    {
     "data": {
      "image/png": "[encoded data removed]",
      "text/plain": [
       "<Figure size 432x288 with 1 Axes>"
      ]
     },
     "metadata": {
      "needs_background": "light"
     },
     "output_type": "display_data"
    },
    {
     "name": "stdout",
     "output_type": "stream",
     "text": [
      "[0.88269511]\n"
     ]
    },
    {
     "data": {
      "text/plain": [
       "array([ True])"
      ]
     },
     "execution_count": 71,
     "metadata": {},
     "output_type": "execute_result"
    }
   ],
   "source": [
    "new_plant = np.array([2, 1])\n",
    "\n",
    "#decision line\n",
    "x0 = np.linspace(-1, 4, 100)\n",
    "x1 = (-W[0] * x0 - b) / W[1]\n",
    "plt.plot(x0, x1, c='orange', lw=3)\n",
    "\n",
    "plt.scatter(X[:, 0], X[:, 1], c=y, cmap=\"summer\")\n",
    "plt.scatter(new_plant[0], new_plant[1], c='r')\n",
    "plt.show()\n",
    "\n",
    "predict(new_plant, W, b)"
   ]
  },
  {
   "cell_type": "code",
   "execution_count": null,
   "id": "f15b95f4",
   "metadata": {},
   "outputs": [],
   "source": []
  }
 ],
 "metadata": {
  "kernelspec": {
   "display_name": ".dlenv",
   "language": "python",
   "name": "python3"
  },
  "language_info": {
   "codemirror_mode": {
    "name": "ipython",
    "version": 3
   },
   "file_extension": ".py",
   "mimetype": "text/x-python",
   "name": "python",
   "nbconvert_exporter": "python",
   "pygments_lexer": "ipython3",
   "version": "3.10.9"
  },
  "vscode": {
   "interpreter": {
    "hash": "607a1ebbecd7304ed5487daa1bb5492aeea3736ce6e61c955428760a572f9ed6"
   }
  }
 },
 "nbformat": 4,
 "nbformat_minor": 5
}
