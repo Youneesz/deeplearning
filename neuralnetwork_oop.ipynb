{
 "cells": [
  {
   "cell_type": "code",
   "execution_count": 2,
   "metadata": {},
   "outputs": [],
   "source": [
    "import numpy as np\n",
    "import pandas as pd\n",
    "import seaborn as sns\n",
    "import matplotlib.pyplot as plt\n",
    "from tqdm import tqdm"
   ]
  },
  {
   "cell_type": "code",
   "execution_count": 3,
   "metadata": {},
   "outputs": [],
   "source": [
    "class Neuron:\n",
    "    def __init__(self, W, b):\n",
    "        self.W = W\n",
    "        self.b = b\n",
    "\n",
    "    def model(self, X): #feedforward\n",
    "        Z = X.dot(self.W) + self.b\n",
    "        A = 1 / (1 + np.exp(-Z))\n",
    "        return A\n",
    "\n",
    "    def loss_log(A, y):\n",
    "        return -1/y.shape[0] * np.sum(y*np.log(A) + (1-y)*np.log(1-A))\n",
    "\n",
    "    def gradients(X, y, A):\n",
    "        dW = -1/y.shape[0] * np.dot(X.T, (y - A))\n",
    "        db = -1/y.shape[0] * np.sum(y - A)\n",
    "        return (dW, db)\n",
    "\n",
    "    def update(self, X, y, A, alpha):\n",
    "        dW, db = self.gradients(X, y, A)\n",
    "        self.W += alpha*dW\n",
    "        self.b += alpha*db\n"
   ]
  },
  {
   "cell_type": "code",
   "execution_count": null,
   "metadata": {},
   "outputs": [],
   "source": [
    "class NeuronNetwork:\n",
    "    def __init__(self):\n",
    "        "
   ]
  }
 ],
 "metadata": {
  "kernelspec": {
   "display_name": ".dlenv",
   "language": "python",
   "name": "python3"
  },
  "language_info": {
   "codemirror_mode": {
    "name": "ipython",
    "version": 3
   },
   "file_extension": ".py",
   "mimetype": "text/x-python",
   "name": "python",
   "nbconvert_exporter": "python",
   "pygments_lexer": "ipython3",
   "version": "3.10.9"
  },
  "orig_nbformat": 4,
  "vscode": {
   "interpreter": {
    "hash": "607a1ebbecd7304ed5487daa1bb5492aeea3736ce6e61c955428760a572f9ed6"
   }
  }
 },
 "nbformat": 4,
 "nbformat_minor": 2
}
