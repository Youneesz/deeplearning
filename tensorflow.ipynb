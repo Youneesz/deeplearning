{
 "cells": [
  {
   "cell_type": "code",
   "execution_count": 2,
   "id": "0a375ce0-436c-40cc-8c5f-93d0e0bd61bc",
   "metadata": {},
   "outputs": [],
   "source": [
    "import tensorflow as tf\n",
    "import numpy as np"
   ]
  },
  {
   "cell_type": "code",
   "execution_count": null,
   "id": "4fd30baa-cfce-4716-83b8-5f5d6a605413",
   "metadata": {},
   "outputs": [],
   "source": []
  }
 ],
 "metadata": {
  "kernelspec": {
   "display_name": ".dlenv",
   "language": "python",
   "name": "python3"
  },
  "language_info": {
   "codemirror_mode": {
    "name": "ipython",
    "version": 3
   },
   "file_extension": ".py",
   "mimetype": "text/x-python",
   "name": "python",
   "nbconvert_exporter": "python",
   "pygments_lexer": "ipython3",
   "version": "3.10.9 (tags/v3.10.9:1dd9be6, Dec  6 2022, 20:01:21) [MSC v.1934 64 bit (AMD64)]"
  },
  "vscode": {
   "interpreter": {
    "hash": "607a1ebbecd7304ed5487daa1bb5492aeea3736ce6e61c955428760a572f9ed6"
   }
  }
 },
 "nbformat": 4,
 "nbformat_minor": 5
}
